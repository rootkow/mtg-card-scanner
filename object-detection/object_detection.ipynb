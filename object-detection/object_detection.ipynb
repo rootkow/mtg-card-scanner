{
 "cells": [
  {
   "cell_type": "code",
   "execution_count": null,
   "metadata": {},
   "outputs": [],
   "source": [
    "import json\n",
    "import math\n",
    "import os\n",
    "from collections import defaultdict\n",
    "\n",
    "import matplotlib.patches as patches\n",
    "import matplotlib.pyplot as plt\n",
    "import numpy as np\n",
    "from matplotlib import patches, patheffects, text"
   ]
  },
  {
   "cell_type": "code",
   "execution_count": null,
   "metadata": {},
   "outputs": [],
   "source": [
    "!tar -zxvf mtg-card-images-dataset.tar.gz"
   ]
  },
  {
   "cell_type": "code",
   "execution_count": null,
   "metadata": {},
   "outputs": [],
   "source": [
    "train_dataset_path = \"mtg-card-scanner/images/data/train\"\n",
    "validation_dataset_path = \"mtg-card-scanner/images/data/validation\"\n",
    "\n",
    "with open(os.path.join(train_dataset_path, \"labels.json\"), \"r\") as f:\n",
    "    labels_json = json.load(f)\n",
    "\n",
    "for category_item in labels_json[\"categories\"]:\n",
    "    print(f\"{category_item['id']}: {category_item['name']}\")"
   ]
  },
  {
   "cell_type": "code",
   "execution_count": null,
   "metadata": {},
   "outputs": [],
   "source": [
    "# This doesn't work properly. Feel free to use at your own risk.\n",
    "\n",
    "# def urmum(max_examples=9):\n",
    "#     with open(os.path.join(train_dataset_path, \"labels.json\"), \"r\") as f:\n",
    "#         labels_json = json.load(f)\n",
    "\n",
    "#     images = labels_json[\"images\"]\n",
    "#     cat_id_to_label = {item[\"id\"]: item[\"name\"] for item in labels_json[\"categories\"]}\n",
    "\n",
    "#     image_annots = defaultdict(list)\n",
    "#     for annotation_obj in labels_json[\"annotations\"]:\n",
    "#         image_id = annotation_obj[\"image_id\"]\n",
    "#         # print(f\"image_id: {image_id}, annotation_obj: {annotation_obj}\")\n",
    "#         image_annots[image_id].append(annotation_obj)\n",
    "\n",
    "#     # aa = image_annots.items()\n",
    "#     # bb = list(aa)[:max_examples]\n",
    "\n",
    "#     n_rows = math.ceil(max_examples / 3)\n",
    "#     _, axs = plt.subplots(n_rows, 3, figsize=(24, n_rows * 8))  # 3 columns(2nd index), 8x8 for each image\n",
    "#     fig, ax = plt.subplots(1)\n",
    "\n",
    "#     for ind, (image_id, annotations_list) in enumerate(list(image_annots.items())[:max_examples]):\n",
    "#         ax = axs[ind // 3, ind % 3]  # ax: matplotlib.axes._axes.Axes\n",
    "#         # print(f\"ind: {ind}, image_id: {image_id}, annotations_list: {annotations_list}, ax: {ax}\")\n",
    "\n",
    "#         img = plt.imread(os.path.join(train_dataset_path, \"images\", images[image_id][\"file_name\"]))\n",
    "#         ax.imshow(img)\n",
    "\n",
    "#         for annotation in annotations_list:\n",
    "#             bbox = annotation[\"bbox\"]\n",
    "#             patch = ax.add_patch(patches.Rectangle((bbox[0], bbox[1]), bbox[2], bbox[3], fill=False, edgecolor=\"red\", lw=2))\n",
    "#             patch.set_path_effects([patheffects.Stroke(linewidth=4, foreground=\"black\"), patheffects.Normal()])\n",
    "\n",
    "#             # text = ax.text(bbox[0], (bbox[1] - img.shape[0] * 0.05), cat_id_to_label[annotation[\"category_id\"]], verticalalignment=\"top\", color=\"white\", fontsize=10, weight=\"bold\")\n",
    "#             # text = ax.text(bbox[0], (bbox[1] - img.shape[0] * 0.05), annotation[], verticalalignment=\"top\", color=\"white\", fontsize=10)\n",
    "#             # text.set_path_effects([patheffects.Stroke(linewidth=4, foreground=\"black\"), patheffects.Normal()])\n",
    "\n",
    "#     plt.show()\n",
    "\n",
    "\n",
    "# urmum(4)\n",
    "# # visualize(train_dataset_path, 4)"
   ]
  },
  {
   "cell_type": "code",
   "execution_count": null,
   "metadata": {},
   "outputs": [],
   "source": [
    "labels_json_path = \"data/train/labels.json\"\n",
    "with open(labels_json_path, \"r\") as f:\n",
    "    labels_json = json.load(f)\n",
    "\n",
    "images_json = labels_json[\"images\"]\n",
    "annotations_json = labels_json[\"annotations\"]\n",
    "# categories_json = labels_json[\"categories\"]\n",
    "\n",
    "image_annotation_mapping = {}\n",
    "for image in images_json:\n",
    "    image_id = image[\"id\"]\n",
    "    image_annotation_mapping[image_id] = {\n",
    "        \"file_name\": image[\"file_name\"],\n",
    "        \"annotations\": [],\n",
    "        # \"annotations\": [annotation for annotation in annotations_json if annotation[\"image_id\"] == image_id]\n",
    "    }\n",
    "\n",
    "    for annotation in annotations_json:\n",
    "        if annotation[\"image_id\"] == image_id:\n",
    "            image_annotation_mapping[image_id][\"annotations\"].append(annotation)\n",
    "\n",
    "# print(json.dumps(image_annotation_mapping, indent=4))"
   ]
  },
  {
   "cell_type": "code",
   "execution_count": null,
   "metadata": {},
   "outputs": [],
   "source": [
    "# Save images with bboxes for testing purposes:\n",
    "\n",
    "# for image_id, image in image_annotation_mapping.items():\n",
    "#     print(image_id, image)\n",
    "\n",
    "#     bboxes = [annotation[\"bbox\"] for annotation in image_annotation_mapping[image_id][\"annotations\"]]\n",
    "\n",
    "#     image = plt.imread(f\"data/train/images/img{image_id}.jpg\", format=\"jpg\")\n",
    "#     fig, ax = plt.subplots(1)\n",
    "#     ax.imshow(image)\n",
    "#     for bbox in bboxes:\n",
    "#         rect = patches.Rectangle((bbox[0], bbox[1]), bbox[2], bbox[3], linewidth=1, edgecolor=\"r\", facecolor=\"none\")\n",
    "#         ax.add_patch(rect)\n",
    "\n",
    "#     plt.savefig(f\"images/tmp/img{image_id}.jpg\", format=\"jpg\")\n",
    "#     plt.close()\n",
    "#     # plt.show()"
   ]
  },
  {
   "cell_type": "markdown",
   "metadata": {},
   "source": [
    "## Rotate images if needed and resave them"
   ]
  },
  {
   "cell_type": "code",
   "execution_count": null,
   "metadata": {},
   "outputs": [],
   "source": [
    "import glob\n",
    "\n",
    "from PIL import ExifTags, Image\n",
    "\n",
    "# images_dir = \"data/train/images\"\n",
    "images_dir = \"data/validation/images\"\n",
    "for filename in glob.glob(f\"{images_dir}/*.jpg\"):\n",
    "    print(f\"filename: {filename}\")\n",
    "\n",
    "    img = Image.open(filename)\n",
    "\n",
    "    orientation = None\n",
    "    for o in ExifTags.TAGS.keys():\n",
    "        if ExifTags.TAGS[o] == \"Orientation\":\n",
    "            orientation = o\n",
    "            break\n",
    "\n",
    "    if not orientation:\n",
    "        raise Exception(\"No orientation found\")\n",
    "\n",
    "    exif = img._getexif()\n",
    "    if exif[orientation] == 3:\n",
    "        print(\"rotating 180\")\n",
    "        img = img.rotate(180, expand=True)\n",
    "    elif exif[orientation] == 6:\n",
    "        print(\"rotating 270\")\n",
    "        img = img.rotate(270, expand=True)\n",
    "    elif exif[orientation] == 8:\n",
    "        print(\"rotating 90\")\n",
    "        img = img.rotate(90, expand=True)\n",
    "    else:\n",
    "        print(\"no rotation needed\")\n",
    "\n",
    "    img.save(filename)"
   ]
  },
  {
   "cell_type": "code",
   "execution_count": null,
   "metadata": {},
   "outputs": [],
   "source": []
  },
  {
   "cell_type": "code",
   "execution_count": null,
   "metadata": {},
   "outputs": [],
   "source": []
  },
  {
   "cell_type": "code",
   "execution_count": null,
   "metadata": {},
   "outputs": [],
   "source": []
  }
 ],
 "metadata": {
  "kernelspec": {
   "display_name": "Python 3 (ipykernel)",
   "language": "python",
   "name": "python3"
  },
  "language_info": {
   "codemirror_mode": {
    "name": "ipython",
    "version": 3
   },
   "file_extension": ".py",
   "mimetype": "text/x-python",
   "name": "python",
   "nbconvert_exporter": "python",
   "pygments_lexer": "ipython3",
   "version": "3.11.4"
  }
 },
 "nbformat": 4,
 "nbformat_minor": 4
}
